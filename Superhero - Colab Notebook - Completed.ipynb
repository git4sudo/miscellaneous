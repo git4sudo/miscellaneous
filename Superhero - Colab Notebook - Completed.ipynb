{
 "cells": [
  {
   "cell_type": "markdown",
   "metadata": {
    "id": "21XXWP7Fpt2L"
   },
   "source": [
    "# Superhero (and Supervillain) Name Generator\n",
    "\n",
    "---\n",
    "\n",
    "[Superhero Names Dataset](https://github.com/am1tyadav/superhero)"
   ]
  },
  {
   "cell_type": "markdown",
   "metadata": {
    "id": "H6P0NU5Cpt2R"
   },
   "source": [
    "## Task 2\n",
    "\n",
    "1. Import the data\n",
    "2. Create a tokenizer\n",
    "3. Char to index and Index to char dictionaries"
   ]
  },
  {
   "cell_type": "code",
   "execution_count": null,
   "metadata": {
    "colab": {
     "base_uri": "https://localhost:8080/"
    },
    "executionInfo": {
     "elapsed": 991,
     "status": "ok",
     "timestamp": 1606327048014,
     "user": {
      "displayName": "Amit Yadav",
      "photoUrl": "https://lh3.googleusercontent.com/a-/AOh14GhPlsR49pVenE006oG1QDmA4uQZFm5zND0AfTfoPA=s64",
      "userId": "06019965579715007028"
     },
     "user_tz": 0
    },
    "id": "srULhalZpt2M",
    "outputId": "13c17cef-04c5-4c84-c81e-02e0758c1efb"
   },
   "outputs": [],
   "source": [
    "!git clone https://github.com/am1tyadav/superhero"
   ]
  },
  {
   "cell_type": "code",
   "execution_count": null,
   "metadata": {
    "colab": {
     "base_uri": "https://localhost:8080/",
     "height": 53
    },
    "executionInfo": {
     "elapsed": 304,
     "status": "ok",
     "timestamp": 1606327049194,
     "user": {
      "displayName": "Amit Yadav",
      "photoUrl": "https://lh3.googleusercontent.com/a-/AOh14GhPlsR49pVenE006oG1QDmA4uQZFm5zND0AfTfoPA=s64",
      "userId": "06019965579715007028"
     },
     "user_tz": 0
    },
    "id": "uq4CLmsLpt2P",
    "outputId": "7536f22e-e4ac-485b-ac50-a96f7445da3d"
   },
   "outputs": [],
   "source": [
    "with open('superhero/superheroes.txt', 'r') as f:\n",
    "  data = f.read()\n",
    "\n",
    "data[:100]"
   ]
  },
  {
   "cell_type": "code",
   "execution_count": null,
   "metadata": {
    "colab": {
     "base_uri": "https://localhost:8080/"
    },
    "executionInfo": {
     "elapsed": 1857,
     "status": "ok",
     "timestamp": 1606327051789,
     "user": {
      "displayName": "Amit Yadav",
      "photoUrl": "https://lh3.googleusercontent.com/a-/AOh14GhPlsR49pVenE006oG1QDmA4uQZFm5zND0AfTfoPA=s64",
      "userId": "06019965579715007028"
     },
     "user_tz": 0
    },
    "id": "JqhtLuAHpt2R",
    "outputId": "63064fc6-6778-4506-fe0f-9734918bea6a"
   },
   "outputs": [],
   "source": [
    "import tensorflow as tf \n",
    "print(tf.__version__)"
   ]
  },
  {
   "cell_type": "code",
   "execution_count": null,
   "metadata": {
    "executionInfo": {
     "elapsed": 1019,
     "status": "ok",
     "timestamp": 1606327051790,
     "user": {
      "displayName": "Amit Yadav",
      "photoUrl": "https://lh3.googleusercontent.com/a-/AOh14GhPlsR49pVenE006oG1QDmA4uQZFm5zND0AfTfoPA=s64",
      "userId": "06019965579715007028"
     },
     "user_tz": 0
    },
    "id": "95Lo1Yqzpt2T"
   },
   "outputs": [],
   "source": [
    "tokenizer = tf.keras.preprocessing.text.Tokenizer(\n",
    "    filters='!\"#$%&()*+,-./:;<=>?@[\\\\]^_`{|}~',\n",
    "    split='\\n',\n",
    ")"
   ]
  },
  {
   "cell_type": "code",
   "execution_count": null,
   "metadata": {
    "executionInfo": {
     "elapsed": 1399,
     "status": "ok",
     "timestamp": 1606327052375,
     "user": {
      "displayName": "Amit Yadav",
      "photoUrl": "https://lh3.googleusercontent.com/a-/AOh14GhPlsR49pVenE006oG1QDmA4uQZFm5zND0AfTfoPA=s64",
      "userId": "06019965579715007028"
     },
     "user_tz": 0
    },
    "id": "qYfC4sj2pt2V"
   },
   "outputs": [],
   "source": [
    "tokenizer.fit_on_texts(data)"
   ]
  },
  {
   "cell_type": "code",
   "execution_count": null,
   "metadata": {
    "colab": {
     "base_uri": "https://localhost:8080/"
    },
    "executionInfo": {
     "elapsed": 1226,
     "status": "ok",
     "timestamp": 1606327052376,
     "user": {
      "displayName": "Amit Yadav",
      "photoUrl": "https://lh3.googleusercontent.com/a-/AOh14GhPlsR49pVenE006oG1QDmA4uQZFm5zND0AfTfoPA=s64",
      "userId": "06019965579715007028"
     },
     "user_tz": 0
    },
    "id": "EO4-dPM6pt2X",
    "outputId": "3e7983de-1a96-464c-a664-9388b84a502a"
   },
   "outputs": [],
   "source": [
    "char_to_index = tokenizer.word_index\n",
    "index_to_char = dict((v, k) for k, v in char_to_index.items())\n",
    "\n",
    "print(index_to_char)"
   ]
  },
  {
   "cell_type": "markdown",
   "metadata": {
    "id": "SMwtIw_Bpt2Z"
   },
   "source": [
    "## Task 3\n",
    "\n",
    "1. Converting between names and sequences"
   ]
  },
  {
   "cell_type": "code",
   "execution_count": null,
   "metadata": {
    "colab": {
     "base_uri": "https://localhost:8080/"
    },
    "executionInfo": {
     "elapsed": 193,
     "status": "ok",
     "timestamp": 1606327052376,
     "user": {
      "displayName": "Amit Yadav",
      "photoUrl": "https://lh3.googleusercontent.com/a-/AOh14GhPlsR49pVenE006oG1QDmA4uQZFm5zND0AfTfoPA=s64",
      "userId": "06019965579715007028"
     },
     "user_tz": 0
    },
    "id": "N7iQLIXzpt2a",
    "outputId": "4cf90490-d460-4782-e202-814ad5eca8b6"
   },
   "outputs": [],
   "source": [
    "names = data.splitlines()\n",
    "names[:10]"
   ]
  },
  {
   "cell_type": "code",
   "execution_count": null,
   "metadata": {
    "colab": {
     "base_uri": "https://localhost:8080/"
    },
    "executionInfo": {
     "elapsed": 277,
     "status": "ok",
     "timestamp": 1606327053764,
     "user": {
      "displayName": "Amit Yadav",
      "photoUrl": "https://lh3.googleusercontent.com/a-/AOh14GhPlsR49pVenE006oG1QDmA4uQZFm5zND0AfTfoPA=s64",
      "userId": "06019965579715007028"
     },
     "user_tz": 0
    },
    "id": "n_-TTfqipt2c",
    "outputId": "91b44824-6f8c-4b82-ffdc-b6830d47189a"
   },
   "outputs": [],
   "source": [
    "tokenizer.texts_to_sequences(names[0])"
   ]
  },
  {
   "cell_type": "code",
   "execution_count": null,
   "metadata": {
    "executionInfo": {
     "elapsed": 350,
     "status": "ok",
     "timestamp": 1606327055037,
     "user": {
      "displayName": "Amit Yadav",
      "photoUrl": "https://lh3.googleusercontent.com/a-/AOh14GhPlsR49pVenE006oG1QDmA4uQZFm5zND0AfTfoPA=s64",
      "userId": "06019965579715007028"
     },
     "user_tz": 0
    },
    "id": "P6IsKH1Upt2e"
   },
   "outputs": [],
   "source": [
    "def name_to_seq(name):\n",
    "  return [tokenizer.texts_to_sequences(c)[0][0] for c in name]"
   ]
  },
  {
   "cell_type": "code",
   "execution_count": null,
   "metadata": {
    "colab": {
     "base_uri": "https://localhost:8080/"
    },
    "executionInfo": {
     "elapsed": 268,
     "status": "ok",
     "timestamp": 1606327056101,
     "user": {
      "displayName": "Amit Yadav",
      "photoUrl": "https://lh3.googleusercontent.com/a-/AOh14GhPlsR49pVenE006oG1QDmA4uQZFm5zND0AfTfoPA=s64",
      "userId": "06019965579715007028"
     },
     "user_tz": 0
    },
    "id": "TuLUiMP3pt2g",
    "outputId": "f4e0237d-f2cb-444f-c8d0-ea0b8fac20b4"
   },
   "outputs": [],
   "source": [
    "name_to_seq(names[0])"
   ]
  },
  {
   "cell_type": "code",
   "execution_count": null,
   "metadata": {
    "executionInfo": {
     "elapsed": 230,
     "status": "ok",
     "timestamp": 1606327056896,
     "user": {
      "displayName": "Amit Yadav",
      "photoUrl": "https://lh3.googleusercontent.com/a-/AOh14GhPlsR49pVenE006oG1QDmA4uQZFm5zND0AfTfoPA=s64",
      "userId": "06019965579715007028"
     },
     "user_tz": 0
    },
    "id": "yFUYhimKpt2h"
   },
   "outputs": [],
   "source": [
    "def seq_to_name(seq):\n",
    "  return ''.join([index_to_char[i] for i in seq if i != 0])"
   ]
  },
  {
   "cell_type": "code",
   "execution_count": null,
   "metadata": {
    "colab": {
     "base_uri": "https://localhost:8080/",
     "height": 35
    },
    "executionInfo": {
     "elapsed": 276,
     "status": "ok",
     "timestamp": 1606327057872,
     "user": {
      "displayName": "Amit Yadav",
      "photoUrl": "https://lh3.googleusercontent.com/a-/AOh14GhPlsR49pVenE006oG1QDmA4uQZFm5zND0AfTfoPA=s64",
      "userId": "06019965579715007028"
     },
     "user_tz": 0
    },
    "id": "ROhCqmhLpt2k",
    "outputId": "33db1841-8327-483f-8fc2-c97b77ded599"
   },
   "outputs": [],
   "source": [
    "seq_to_name(name_to_seq(names[0]))"
   ]
  },
  {
   "cell_type": "markdown",
   "metadata": {
    "id": "uCbAzsNjpt2m"
   },
   "source": [
    "## Task 4\n",
    "\n",
    "1. Creating sequences\n",
    "2. Padding all sequences"
   ]
  },
  {
   "cell_type": "code",
   "execution_count": null,
   "metadata": {
    "executionInfo": {
     "elapsed": 948,
     "status": "ok",
     "timestamp": 1606327060480,
     "user": {
      "displayName": "Amit Yadav",
      "photoUrl": "https://lh3.googleusercontent.com/a-/AOh14GhPlsR49pVenE006oG1QDmA4uQZFm5zND0AfTfoPA=s64",
      "userId": "06019965579715007028"
     },
     "user_tz": 0
    },
    "id": "zstNn-0dpt2m"
   },
   "outputs": [],
   "source": [
    "sequences= []\n",
    "\n",
    "for name in names:\n",
    "  seq = name_to_seq(name)\n",
    "  if len(seq) >= 2:\n",
    "    sequences += [seq[:i] for i in range(2, len(seq) + 1)]"
   ]
  },
  {
   "cell_type": "code",
   "execution_count": null,
   "metadata": {
    "colab": {
     "base_uri": "https://localhost:8080/"
    },
    "executionInfo": {
     "elapsed": 323,
     "status": "ok",
     "timestamp": 1606327060481,
     "user": {
      "displayName": "Amit Yadav",
      "photoUrl": "https://lh3.googleusercontent.com/a-/AOh14GhPlsR49pVenE006oG1QDmA4uQZFm5zND0AfTfoPA=s64",
      "userId": "06019965579715007028"
     },
     "user_tz": 0
    },
    "id": "BjRTMysvpt2o",
    "outputId": "4880bfcf-fbe9-4c33-b8c9-9d8868fb81bd"
   },
   "outputs": [],
   "source": [
    "sequences[:10]"
   ]
  },
  {
   "cell_type": "code",
   "execution_count": null,
   "metadata": {
    "colab": {
     "base_uri": "https://localhost:8080/"
    },
    "executionInfo": {
     "elapsed": 275,
     "status": "ok",
     "timestamp": 1606327060666,
     "user": {
      "displayName": "Amit Yadav",
      "photoUrl": "https://lh3.googleusercontent.com/a-/AOh14GhPlsR49pVenE006oG1QDmA4uQZFm5zND0AfTfoPA=s64",
      "userId": "06019965579715007028"
     },
     "user_tz": 0
    },
    "id": "SR68pu2tpt2q",
    "outputId": "8442a38e-638d-493a-bb2b-4fd0b2ab265d"
   },
   "outputs": [],
   "source": [
    "max_len = max([len(x) for x in sequences])\n",
    "print(max_len)"
   ]
  },
  {
   "cell_type": "code",
   "execution_count": null,
   "metadata": {
    "colab": {
     "base_uri": "https://localhost:8080/"
    },
    "executionInfo": {
     "elapsed": 807,
     "status": "ok",
     "timestamp": 1606327061443,
     "user": {
      "displayName": "Amit Yadav",
      "photoUrl": "https://lh3.googleusercontent.com/a-/AOh14GhPlsR49pVenE006oG1QDmA4uQZFm5zND0AfTfoPA=s64",
      "userId": "06019965579715007028"
     },
     "user_tz": 0
    },
    "id": "h_1BtWO7pt2r",
    "outputId": "b129a29e-91a3-41ef-cb27-9e578e6b6663"
   },
   "outputs": [],
   "source": [
    "padded_sequences = tf.keras.preprocessing.sequence.pad_sequences(\n",
    "    sequences, padding='pre',\n",
    "    maxlen=max_len\n",
    ")\n",
    "\n",
    "print(padded_sequences[0])"
   ]
  },
  {
   "cell_type": "code",
   "execution_count": null,
   "metadata": {
    "colab": {
     "base_uri": "https://localhost:8080/"
    },
    "executionInfo": {
     "elapsed": 408,
     "status": "ok",
     "timestamp": 1606327061638,
     "user": {
      "displayName": "Amit Yadav",
      "photoUrl": "https://lh3.googleusercontent.com/a-/AOh14GhPlsR49pVenE006oG1QDmA4uQZFm5zND0AfTfoPA=s64",
      "userId": "06019965579715007028"
     },
     "user_tz": 0
    },
    "id": "sPlrLRpSpt2t",
    "outputId": "bbbabd08-a742-4ee3-f5e8-e4619cc17a84"
   },
   "outputs": [],
   "source": [
    "padded_sequences.shape"
   ]
  },
  {
   "cell_type": "markdown",
   "metadata": {
    "id": "4WPypqx8RfRu"
   },
   "source": [
    "## Task 5: Creating Training and Validation Sets\n",
    "\n",
    "1. Creating training and validation sets"
   ]
  },
  {
   "cell_type": "code",
   "execution_count": null,
   "metadata": {
    "colab": {
     "base_uri": "https://localhost:8080/"
    },
    "executionInfo": {
     "elapsed": 352,
     "status": "ok",
     "timestamp": 1606327062882,
     "user": {
      "displayName": "Amit Yadav",
      "photoUrl": "https://lh3.googleusercontent.com/a-/AOh14GhPlsR49pVenE006oG1QDmA4uQZFm5zND0AfTfoPA=s64",
      "userId": "06019965579715007028"
     },
     "user_tz": 0
    },
    "id": "BE4BIeSnpt2v",
    "outputId": "2e23751c-e71d-4327-d691-99cd3fb630a0"
   },
   "outputs": [],
   "source": [
    "x, y = padded_sequences[:, :-1], padded_sequences[:, -1]\n",
    "print(x.shape, y.shape)"
   ]
  },
  {
   "cell_type": "code",
   "execution_count": null,
   "metadata": {
    "colab": {
     "base_uri": "https://localhost:8080/"
    },
    "executionInfo": {
     "elapsed": 934,
     "status": "ok",
     "timestamp": 1606327064059,
     "user": {
      "displayName": "Amit Yadav",
      "photoUrl": "https://lh3.googleusercontent.com/a-/AOh14GhPlsR49pVenE006oG1QDmA4uQZFm5zND0AfTfoPA=s64",
      "userId": "06019965579715007028"
     },
     "user_tz": 0
    },
    "id": "jWKfJNVXRfRu",
    "outputId": "52a43af8-16cf-45c1-afd7-5ca7c664fce7"
   },
   "outputs": [],
   "source": [
    "from sklearn.model_selection import train_test_split\n",
    "\n",
    "x_train, x_test, y_train, y_test = train_test_split(x, y)\n",
    "\n",
    "print(x_train.shape, y_train.shape)\n",
    "print(x_test.shape, y_test.shape)"
   ]
  },
  {
   "cell_type": "code",
   "execution_count": null,
   "metadata": {
    "colab": {
     "base_uri": "https://localhost:8080/"
    },
    "executionInfo": {
     "elapsed": 246,
     "status": "ok",
     "timestamp": 1606327064060,
     "user": {
      "displayName": "Amit Yadav",
      "photoUrl": "https://lh3.googleusercontent.com/a-/AOh14GhPlsR49pVenE006oG1QDmA4uQZFm5zND0AfTfoPA=s64",
      "userId": "06019965579715007028"
     },
     "user_tz": 0
    },
    "id": "cgqRZtqnpt2x",
    "outputId": "a64a30f5-d466-4064-b3fe-a6ea8508417a"
   },
   "outputs": [],
   "source": [
    "num_chars = len(char_to_index.keys()) + 1\n",
    "print(num_chars)"
   ]
  },
  {
   "cell_type": "markdown",
   "metadata": {
    "id": "UsM2fs3_RfRu"
   },
   "source": [
    "## Task 6: Creating the Model"
   ]
  },
  {
   "cell_type": "code",
   "execution_count": null,
   "metadata": {
    "colab": {
     "base_uri": "https://localhost:8080/"
    },
    "executionInfo": {
     "elapsed": 6001,
     "status": "ok",
     "timestamp": 1606327072676,
     "user": {
      "displayName": "Amit Yadav",
      "photoUrl": "https://lh3.googleusercontent.com/a-/AOh14GhPlsR49pVenE006oG1QDmA4uQZFm5zND0AfTfoPA=s64",
      "userId": "06019965579715007028"
     },
     "user_tz": 0
    },
    "id": "2dPlCmTYRfRu",
    "outputId": "df67f41f-2952-406f-8841-49c5a8fbb44e"
   },
   "outputs": [],
   "source": [
    "from tensorflow.keras.models import Sequential\n",
    "from tensorflow.keras.layers import Embedding, Conv1D, MaxPool1D, LSTM\n",
    "from tensorflow.keras.layers import Bidirectional, Dense\n",
    "\n",
    "model = Sequential([\n",
    "                    Embedding(num_chars, 8, input_length=max_len-1),\n",
    "                    Conv1D(64, 5, strides=1, activation='tanh', padding='causal'),\n",
    "                    MaxPool1D(2),\n",
    "                    LSTM(32),\n",
    "                    Dense(num_chars, activation='softmax')\n",
    "])\n",
    "\n",
    "model.compile(\n",
    "    loss='sparse_categorical_crossentropy',\n",
    "    optimizer='adam',\n",
    "    metrics=['accuracy']\n",
    ")\n",
    "\n",
    "model.summary()"
   ]
  },
  {
   "cell_type": "markdown",
   "metadata": {
    "id": "du_WBvUHRfRu"
   },
   "source": [
    "## Task 7: Training the Model"
   ]
  },
  {
   "cell_type": "code",
   "execution_count": null,
   "metadata": {
    "colab": {
     "base_uri": "https://localhost:8080/"
    },
    "executionInfo": {
     "elapsed": 434017,
     "status": "ok",
     "timestamp": 1606327918063,
     "user": {
      "displayName": "Amit Yadav",
      "photoUrl": "https://lh3.googleusercontent.com/a-/AOh14GhPlsR49pVenE006oG1QDmA4uQZFm5zND0AfTfoPA=s64",
      "userId": "06019965579715007028"
     },
     "user_tz": 0
    },
    "id": "j0Ssl4qupt22",
    "outputId": "9059f683-d9f0-4d10-cfdb-6badb9c3330f"
   },
   "outputs": [],
   "source": [
    "h = model.fit(\n",
    "    x_train, y_train,\n",
    "    validation_data=(x_test, y_test),\n",
    "    epochs=50, verbose=2,\n",
    "    callbacks=[\n",
    "               tf.keras.callbacks.EarlyStopping(monitor='val_accuracy', patience=3)\n",
    "    ]\n",
    ")"
   ]
  },
  {
   "cell_type": "code",
   "execution_count": null,
   "metadata": {
    "colab": {
     "base_uri": "https://localhost:8080/",
     "height": 265
    },
    "executionInfo": {
     "elapsed": 480,
     "status": "ok",
     "timestamp": 1606328100183,
     "user": {
      "displayName": "Amit Yadav",
      "photoUrl": "https://lh3.googleusercontent.com/a-/AOh14GhPlsR49pVenE006oG1QDmA4uQZFm5zND0AfTfoPA=s64",
      "userId": "06019965579715007028"
     },
     "user_tz": 0
    },
    "id": "AkkG3lEOm4OS",
    "outputId": "5c42164c-51ab-4a59-b3b7-2fd4f7d9f6e2"
   },
   "outputs": [],
   "source": [
    "from matplotlib import pyplot as plt\n",
    "\n",
    "epochs_ran = len(h.history['loss'])\n",
    "\n",
    "plt.plot(range(0, epochs_ran), h.history['val_accuracy'], label='Validation')\n",
    "plt.plot(range(0, epochs_ran), h.history['accuracy'], label='Training')\n",
    "plt.legend()\n",
    "plt.show()"
   ]
  },
  {
   "cell_type": "markdown",
   "metadata": {
    "id": "j74nkW5xRfRu"
   },
   "source": [
    "## Task 8: Generate Names!"
   ]
  },
  {
   "cell_type": "code",
   "execution_count": null,
   "metadata": {
    "executionInfo": {
     "elapsed": 526,
     "status": "ok",
     "timestamp": 1606328413518,
     "user": {
      "displayName": "Amit Yadav",
      "photoUrl": "https://lh3.googleusercontent.com/a-/AOh14GhPlsR49pVenE006oG1QDmA4uQZFm5zND0AfTfoPA=s64",
      "userId": "06019965579715007028"
     },
     "user_tz": 0
    },
    "id": "9f50aTRcpt24"
   },
   "outputs": [],
   "source": [
    "def generate_names(seed):\n",
    "  for i in range(0, 40):\n",
    "    seq = name_to_seq(seed)\n",
    "    padded = tf.keras.preprocessing.sequence.pad_sequences([seq], padding='pre',\n",
    "                                                           maxlen=max_len-1,\n",
    "                                                           truncating='pre')\n",
    "    pred = model.predict(padded)[0]\n",
    "    pred_char = index_to_char[tf.argmax(pred).numpy()]\n",
    "    seed += pred_char\n",
    "\n",
    "    if pred_char == '\\t':\n",
    "      break\n",
    "  print(seed)"
   ]
  },
  {
   "cell_type": "code",
   "execution_count": null,
   "metadata": {
    "colab": {
     "base_uri": "https://localhost:8080/"
    },
    "executionInfo": {
     "elapsed": 890,
     "status": "ok",
     "timestamp": 1606328473420,
     "user": {
      "displayName": "Amit Yadav",
      "photoUrl": "https://lh3.googleusercontent.com/a-/AOh14GhPlsR49pVenE006oG1QDmA4uQZFm5zND0AfTfoPA=s64",
      "userId": "06019965579715007028"
     },
     "user_tz": 0
    },
    "id": "faQ0FInlpt26",
    "outputId": "72a75c15-f366-4b12-820e-c56ad6158f1d"
   },
   "outputs": [],
   "source": [
    "generate_names('x')"
   ]
  },
  {
   "cell_type": "code",
   "execution_count": null,
   "metadata": {
    "id": "dD7DcpHiopOv"
   },
   "outputs": [],
   "source": []
  }
 ],
 "metadata": {
  "accelerator": "GPU",
  "colab": {
   "collapsed_sections": [],
   "name": "Copy of Superhero Name Generator - Learner.ipynb",
   "provenance": [
    {
     "file_id": "1TsXMSezKzlS-q-94mY2OCa7s8kznJOvg",
     "timestamp": 1606322375249
    }
   ]
  },
  "kernelspec": {
   "display_name": "Python 3",
   "language": "python",
   "name": "python3"
  },
  "language_info": {
   "codemirror_mode": {
    "name": "ipython",
    "version": 3
   },
   "file_extension": ".py",
   "mimetype": "text/x-python",
   "name": "python",
   "nbconvert_exporter": "python",
   "pygments_lexer": "ipython3",
   "version": "3.8.5"
  }
 },
 "nbformat": 4,
 "nbformat_minor": 1
}
